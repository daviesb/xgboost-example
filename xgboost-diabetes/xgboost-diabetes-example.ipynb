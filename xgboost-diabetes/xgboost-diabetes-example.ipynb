{
 "cells": [
  {
   "cell_type": "code",
   "execution_count": 26,
   "metadata": {},
   "outputs": [],
   "source": [
    "import numpy as np\n",
    "from xgboost import XGBClassifier\n",
    "from sklearn.model_selection import train_test_split\n",
    "from sklearn.metrics import accuracy_score"
   ]
  },
  {
   "cell_type": "code",
   "execution_count": 27,
   "metadata": {},
   "outputs": [],
   "source": [
    "# load data\n",
    "df = np.loadtxt('pima-indians-diabetes.csv', delimiter=',')"
   ]
  },
  {
   "cell_type": "code",
   "execution_count": 28,
   "metadata": {},
   "outputs": [
    {
     "data": {
      "text/plain": [
       "array([[  6.   , 148.   ,  72.   , ...,   0.627,  50.   ,   1.   ],\n",
       "       [  1.   ,  85.   ,  66.   , ...,   0.351,  31.   ,   0.   ],\n",
       "       [  8.   , 183.   ,  64.   , ...,   0.672,  32.   ,   1.   ],\n",
       "       ...,\n",
       "       [  5.   , 121.   ,  72.   , ...,   0.245,  30.   ,   0.   ],\n",
       "       [  1.   , 126.   ,  60.   , ...,   0.349,  47.   ,   1.   ],\n",
       "       [  1.   ,  93.   ,  70.   , ...,   0.315,  23.   ,   0.   ]])"
      ]
     },
     "execution_count": 28,
     "metadata": {},
     "output_type": "execute_result"
    }
   ],
   "source": [
    "df"
   ]
  },
  {
   "cell_type": "code",
   "execution_count": 29,
   "metadata": {},
   "outputs": [],
   "source": [
    "# split data into X and Y\n",
    "X = df[:,0:8]\n",
    "Y = df[:,8]"
   ]
  },
  {
   "cell_type": "code",
   "execution_count": 53,
   "metadata": {},
   "outputs": [],
   "source": [
    "# set seed and list of test_sizes\n",
    "seed = 1\n",
    "test_size_list = np.arange(0.05, 0.95, 0.05).tolist()\n",
    "accuracy_list = []"
   ]
  },
  {
   "cell_type": "code",
   "execution_count": 54,
   "metadata": {},
   "outputs": [],
   "source": [
    "for test_size in test_size_list:\n",
    "    X_train, X_test, y_train, y_test = train_test_split(X, Y, test_size=test_size, random_state=seed)\n",
    "    # fit model to training data\n",
    "    model = XGBClassifier()\n",
    "    model.fit(X_train, y_train)\n",
    "    # make predictions for test data\n",
    "    y_pred = model.predict(X_test)\n",
    "    predictions = [round(value) for value in y_pred]\n",
    "    # evaluate predictions\n",
    "    accuracy = accuracy_score(y_test, predictions)\n",
    "    accuracy_list.append(accuracy)"
   ]
  },
  {
   "cell_type": "code",
   "execution_count": 55,
   "metadata": {},
   "outputs": [],
   "source": [
    "X_train, X_test, y_train, y_test = train_test_split(X, Y, test_size=test_size, random_state=seed)"
   ]
  },
  {
   "cell_type": "code",
   "execution_count": 57,
   "metadata": {},
   "outputs": [
    {
     "name": "stdout",
     "output_type": "stream",
     "text": [
      "test size: 5% --------- accuracy: 74.36%\n",
      "test size: 10% --------- accuracy: 77.92%\n",
      "test size: 15% --------- accuracy: 80.17%\n",
      "test size: 20% --------- accuracy: 75.32%\n",
      "test size: 25% --------- accuracy: 76.04%\n",
      "test size: 30% --------- accuracy: 77.06%\n",
      "test size: 35% --------- accuracy: 77.32%\n",
      "test size: 40% --------- accuracy: 77.27%\n",
      "test size: 45% --------- accuracy: 76.59%\n",
      "test size: 50% --------- accuracy: 73.44%\n",
      "test size: 55% --------- accuracy: 75.18%\n",
      "test size: 60% --------- accuracy: 72.45%\n",
      "test size: 65% --------- accuracy: 71.40%\n",
      "test size: 70% --------- accuracy: 73.23%\n",
      "test size: 75% --------- accuracy: 72.96%\n",
      "test size: 80% --------- accuracy: 73.01%\n",
      "test size: 85% --------- accuracy: 71.21%\n",
      "test size: 90% --------- accuracy: 70.52%\n"
     ]
    }
   ],
   "source": [
    "# evaluate predictions - we tried test sizes between 5% and 95%, how did accuracy fare?\n",
    "for x, y in zip(test_size_list, accuracy_list):\n",
    "    print(\"test size: %.0f%%\" % (x * 100.0), \"---------\", \"accuracy: %.2f%%\" % (y * 100.0))"
   ]
  },
  {
   "cell_type": "code",
   "execution_count": null,
   "metadata": {},
   "outputs": [],
   "source": []
  },
  {
   "cell_type": "code",
   "execution_count": null,
   "metadata": {},
   "outputs": [],
   "source": []
  }
 ],
 "metadata": {
  "kernelspec": {
   "display_name": "Python 3",
   "language": "python",
   "name": "python3"
  },
  "language_info": {
   "codemirror_mode": {
    "name": "ipython",
    "version": 3
   },
   "file_extension": ".py",
   "mimetype": "text/x-python",
   "name": "python",
   "nbconvert_exporter": "python",
   "pygments_lexer": "ipython3",
   "version": "3.7.6"
  }
 },
 "nbformat": 4,
 "nbformat_minor": 4
}
